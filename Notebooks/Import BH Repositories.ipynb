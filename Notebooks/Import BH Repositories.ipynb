{
 "cells": [
  {
   "cell_type": "markdown",
   "metadata": {},
   "source": [
    "# Import BH Repositories\n",
    "\n",
    "For security and speed it has been deemed easier to clone repositories manually from this environment rather than providing a ready made image with everything on it. Don't worry too much if this doesn't make sense. Just follow the steps in the tab below:"
   ]
  },
  {
   "cell_type": "markdown",
   "metadata": {},
   "source": [
    "## Inputs\n",
    "\n",
    "Please enter your github username and password below. Don't worry no one has access to this coding environment and the communications between this environment and github are encrypted by default."
   ]
  },
  {
   "cell_type": "code",
   "execution_count": 5,
   "metadata": {},
   "outputs": [],
   "source": [
    "import os\n",
    "\n",
    "github_username = \"\"\n",
    "\n",
    "github_password = \"\"\n",
    "\n",
    "clone_auth = \"git clone https://{}:{}@github.com/\".format(github_username, github_password)\n"
   ]
  },
  {
   "cell_type": "markdown",
   "metadata": {},
   "source": [
    "Run the script below to download repositories onto this environment."
   ]
  },
  {
   "cell_type": "markdown",
   "metadata": {},
   "source": [
    "## BH Repositories"
   ]
  },
  {
   "cell_type": "code",
   "execution_count": 7,
   "metadata": {},
   "outputs": [
    {
     "data": {
      "text/plain": [
       "0"
      ]
     },
     "execution_count": 7,
     "metadata": {},
     "output_type": "execute_result"
    }
   ],
   "source": [
    "data_scraping_repo = \"BuroHappoldLegacySoup/Data-Scraping-Toolkit\"\n",
    "\n",
    "os.system(clone_auth + data_scraping_repo)"
   ]
  }
 ],
 "metadata": {
  "kernelspec": {
   "display_name": "Python 3",
   "language": "python",
   "name": "python3"
  },
  "language_info": {
   "codemirror_mode": {
    "name": "ipython",
    "version": 3
   },
   "file_extension": ".py",
   "mimetype": "text/x-python",
   "name": "python",
   "nbconvert_exporter": "python",
   "pygments_lexer": "ipython3",
   "version": "3.6.3"
  }
 },
 "nbformat": 4,
 "nbformat_minor": 2
}
